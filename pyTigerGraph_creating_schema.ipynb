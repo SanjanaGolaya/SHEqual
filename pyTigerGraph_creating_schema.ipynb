{
 "cells": [
  {
   "cell_type": "markdown",
   "metadata": {
    "id": "owRhnxW15t_w"
   },
   "source": [
    "## Install pyTigerGraph"
   ]
  },
  {
   "cell_type": "code",
   "execution_count": null,
   "metadata": {
    "colab": {
     "base_uri": "https://localhost:8080/"
    },
    "id": "JmsrV-SNnx31",
    "outputId": "fe5a72dc-0c98-4224-c2e7-ae494ab46b0a"
   },
   "outputs": [
    {
     "name": "stdout",
     "output_type": "stream",
     "text": [
      "Collecting pyTigerGraph\n",
      "  Downloading pyTigerGraph-0.0.9.9.2-py3-none-any.whl (22 kB)\n",
      "Requirement already satisfied: pandas in /usr/local/lib/python3.7/dist-packages (from pyTigerGraph) (1.3.5)\n",
      "Collecting validators\n",
      "  Downloading validators-0.18.2-py3-none-any.whl (19 kB)\n",
      "Collecting pyTigerDriver\n",
      "  Downloading pyTigerDriver-1.0.14-py3-none-any.whl (8.7 kB)\n",
      "Requirement already satisfied: requests in /usr/local/lib/python3.7/dist-packages (from pyTigerGraph) (2.23.0)\n",
      "Requirement already satisfied: numpy>=1.17.3 in /usr/local/lib/python3.7/dist-packages (from pandas->pyTigerGraph) (1.21.5)\n",
      "Requirement already satisfied: python-dateutil>=2.7.3 in /usr/local/lib/python3.7/dist-packages (from pandas->pyTigerGraph) (2.8.2)\n",
      "Requirement already satisfied: pytz>=2017.3 in /usr/local/lib/python3.7/dist-packages (from pandas->pyTigerGraph) (2018.9)\n",
      "Requirement already satisfied: six>=1.5 in /usr/local/lib/python3.7/dist-packages (from python-dateutil>=2.7.3->pandas->pyTigerGraph) (1.15.0)\n",
      "Requirement already satisfied: certifi>=2017.4.17 in /usr/local/lib/python3.7/dist-packages (from requests->pyTigerGraph) (2021.10.8)\n",
      "Requirement already satisfied: urllib3!=1.25.0,!=1.25.1,<1.26,>=1.21.1 in /usr/local/lib/python3.7/dist-packages (from requests->pyTigerGraph) (1.24.3)\n",
      "Requirement already satisfied: chardet<4,>=3.0.2 in /usr/local/lib/python3.7/dist-packages (from requests->pyTigerGraph) (3.0.4)\n",
      "Requirement already satisfied: idna<3,>=2.5 in /usr/local/lib/python3.7/dist-packages (from requests->pyTigerGraph) (2.10)\n",
      "Requirement already satisfied: decorator>=3.4.0 in /usr/local/lib/python3.7/dist-packages (from validators->pyTigerGraph) (4.4.2)\n",
      "Installing collected packages: validators, pyTigerDriver, pyTigerGraph\n",
      "Successfully installed pyTigerDriver-1.0.14 pyTigerGraph-0.0.9.9.2 validators-0.18.2\n"
     ]
    }
   ],
   "source": [
    "# Setup\n",
    "!pip install -U pyTigerGraph"
   ]
  },
  {
   "cell_type": "markdown",
   "metadata": {
    "id": "pSsJAzc_5yNN"
   },
   "source": [
    "## Add Imports and Establish Initial Connection"
   ]
  },
  {
   "cell_type": "code",
   "execution_count": null,
   "metadata": {
    "colab": {
     "base_uri": "https://localhost:8080/"
    },
    "id": "vqpwQh1_noLK",
    "outputId": "38e4888a-c294-4a7e-9216-77ec18bfaa23"
   },
   "outputs": [
    {
     "name": "stdout",
     "output_type": "stream",
     "text": [
      "Connected\n"
     ]
    }
   ],
   "source": [
    "# Imports\n",
    "import pyTigerGraph as tg\n",
    "import json\n",
    "import pandas as pd\n",
    "\n",
    "# Connection parameters\n",
    "hostName = \"https://tg-sample.i.tgcloud.io/\"\n",
    "userName = \"tigergraph\"\n",
    "password = \"tigergraph\"\n",
    "\n",
    "conn = tg.TigerGraphConnection(host=hostName, username=userName, password=password)\n",
    "\n",
    "print(\"Connected\")"
   ]
  },
  {
   "cell_type": "code",
   "execution_count": null,
   "metadata": {
    "colab": {
     "base_uri": "https://localhost:8080/",
     "height": 105
    },
    "id": "uwCX0L4puyNB",
    "outputId": "22ece805-02b4-4506-b293-7c4740cfe4b4"
   },
   "outputs": [
    {
     "data": {
      "application/vnd.google.colaboratory.intrinsic+json": {
       "type": "string"
      },
      "text/plain": [
       "'Dropping all, about 1 minute ...\\nAbort all active loading jobs\\nTry to abort all loading jobs on graph MyGraph, it may take a while ...\\n[ABORT_SUCCESS] No active Loading Job to abort.\\nResetting GPE...\\nSuccessfully reset GPE and GSE\\nStopping GPE GSE\\nSuccessfully stopped GPE GSE in 0.003 seconds\\nClearing graph store...\\nSuccessfully cleared graph store\\nStarting GPE GSE RESTPP\\nSuccessfully started GPE GSE RESTPP in 0.103 seconds\\nEverything is dropped.'"
      ]
     },
     "execution_count": 28,
     "metadata": {},
     "output_type": "execute_result"
    }
   ],
   "source": [
    "conn.gsql('''\n",
    "USE GLOBAL\n",
    "DROP ALL\n",
    "''')"
   ]
  },
  {
   "cell_type": "markdown",
   "metadata": {
    "id": "SDPUKGDc55bJ"
   },
   "source": [
    "## Define and Publish the Schema"
   ]
  },
  {
   "cell_type": "code",
   "execution_count": null,
   "metadata": {
    "colab": {
     "base_uri": "https://localhost:8080/"
    },
    "id": "tbLUKiA4oSKX",
    "outputId": "11235271-a360-4519-c35e-53af4e862e0f"
   },
   "outputs": [
    {
     "name": "stdout",
     "output_type": "stream",
     "text": [
      "Successfully created vertex types: [User].\n",
      "Successfully created vertex types: [Work_profile].\n",
      "Successfully created vertex types: [Jobs].\n",
      "Successfully created vertex types: [Courses].\n",
      "Successfully created edge types: [work_info].\n",
      "Successfully created reverse edge types: [reverse_work_info].\n",
      "Successfully created edge types: [relevant_courses].\n",
      "Successfully created reverse edge types: [reverse_relevant_courses].\n",
      "Successfully created edge types: [available_jobs].\n",
      "Successfully created reverse edge types: [reverse_available_jobs].\n"
     ]
    }
   ],
   "source": [
    "# DEFINE / CREATE ALL EDGES AND VERTICES \n",
    "results = conn.gsql('''\n",
    "  USE GLOBAL\n",
    "  CREATE VERTEX User (PRIMARY_ID id INT, name STRING, email_ID STRING, age INT,interest STRING,Location STRING) WITH primary_id_as_attribute=\"true\"\n",
    "  CREATE VERTEX Work_profile (PRIMARY_ID id INT,work_experience INT, skill_1 STRING, skill_2 STRING) WITH primary_id_as_attribute=\"true\"\n",
    "  CREATE VERTEX Jobs (PRIMARY_ID job_id INT, exp_required INT, title STRING, Salary_in_USD INT, Location STRING, skill_required_1 STRING, skill_required_2 STRING) WITH primary_id_as_attribute=\"true\"\n",
    "  CREATE VERTEX Courses (PRIMARY_ID course_id STRING, course_title STRING, url STRING, is_paid BOOL, price_in_USD INT, Number_of_subs INT, level STRING, duration_in_hours FLOAT, Subject STRING) WITH primary_id_as_attribute=\"true\"\n",
    "  CREATE DIRECTED EDGE work_info (From User, To Work_profile) WITH REVERSE_EDGE=\"reverse_work_info\"\n",
    "  CREATE DIRECTED EDGE relevant_courses (From User, To Courses) WITH REVERSE_EDGE=\"reverse_relevant_courses\"\n",
    "  CREATE DIRECTED EDGE available_jobs (From Work_profile, To Jobs) WITH REVERSE_EDGE=\"reverse_available_jobs\"\n",
    "''')\n",
    "print(results)"
   ]
  },
  {
   "cell_type": "markdown",
   "metadata": {
    "id": "bMz6fxfx59Xz"
   },
   "source": [
    "## Create the Graph"
   ]
  },
  {
   "cell_type": "code",
   "execution_count": null,
   "metadata": {
    "id": "-cgC8b7OcZDd"
   },
   "outputs": [],
   "source": [
    "results = conn.gsql('CREATE GRAPH MyGraph(User, Work_profile, Jobs, Courses, work_info, reverse_work_info, relevant_courses, reverse_relevant_courses, available_jobs, reverse_available_jobs)')"
   ]
  },
  {
   "cell_type": "code",
   "execution_count": null,
   "metadata": {
    "colab": {
     "base_uri": "https://localhost:8080/"
    },
    "id": "SbxyEaptc2Ri",
    "outputId": "cac9951a-a5d5-427f-a3d9-a83d7f83fa39"
   },
   "outputs": [
    {
     "name": "stdout",
     "output_type": "stream",
     "text": [
      "1mad2jeg1jmsl1hom7p1vpptnjf3n311\n"
     ]
    }
   ],
   "source": [
    "conn.graphname=\"MyGraph\"\n",
    "secret = conn.createSecret()\n",
    "authToken = conn.getToken(secret)\n",
    "authToken = authToken[0]\n",
    "print(authToken)\n",
    "# authToken = 'rc7reopbis1667ksgcppq5v5fb99p6s1'\n",
    "conn = tg.TigerGraphConnection(host=hostName, graphname=\"MyGraph\", username=userName, password=password, apiToken=authToken)\n",
    "\n",
    "def pprint(string):\n",
    "  print(json.dumps(string, indent=2))"
   ]
  }
 ],
 "metadata": {
  "colab": {
   "collapsed_sections": [],
   "name": "pyTigerGraph-creating schema",
   "provenance": []
  },
  "kernelspec": {
   "display_name": "Python 3 (ipykernel)",
   "language": "python",
   "name": "python3"
  },
  "language_info": {
   "codemirror_mode": {
    "name": "ipython",
    "version": 3
   },
   "file_extension": ".py",
   "mimetype": "text/x-python",
   "name": "python",
   "nbconvert_exporter": "python",
   "pygments_lexer": "ipython3",
   "version": "3.9.7"
  }
 },
 "nbformat": 4,
 "nbformat_minor": 1
}
