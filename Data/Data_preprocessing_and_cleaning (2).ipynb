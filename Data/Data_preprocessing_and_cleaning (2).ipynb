{
 "cells": [
  {
   "cell_type": "code",
   "execution_count": 67,
   "id": "c3e8661c",
   "metadata": {},
   "outputs": [],
   "source": [
    "import pandas as pd \n",
    "import numpy as np"
   ]
  },
  {
   "cell_type": "markdown",
   "id": "fdc8a5a8",
   "metadata": {},
   "source": [
    "# Users data"
   ]
  },
  {
   "cell_type": "code",
   "execution_count": 70,
   "id": "5c901445",
   "metadata": {},
   "outputs": [],
   "source": [
    "users_data=pd.read_csv(\"user_data.csv\",encoding=\"latin1\")"
   ]
  },
  {
   "cell_type": "code",
   "execution_count": 71,
   "id": "02b9f84f",
   "metadata": {},
   "outputs": [
    {
     "data": {
      "text/html": [
       "<div>\n",
       "<style scoped>\n",
       "    .dataframe tbody tr th:only-of-type {\n",
       "        vertical-align: middle;\n",
       "    }\n",
       "\n",
       "    .dataframe tbody tr th {\n",
       "        vertical-align: top;\n",
       "    }\n",
       "\n",
       "    .dataframe thead th {\n",
       "        text-align: right;\n",
       "    }\n",
       "</style>\n",
       "<table border=\"1\" class=\"dataframe\">\n",
       "  <thead>\n",
       "    <tr style=\"text-align: right;\">\n",
       "      <th></th>\n",
       "      <th>_unit_id</th>\n",
       "      <th>_golden</th>\n",
       "      <th>_unit_state</th>\n",
       "      <th>_trusted_judgments</th>\n",
       "      <th>_last_judgment_at</th>\n",
       "      <th>gender</th>\n",
       "      <th>gender:confidence</th>\n",
       "      <th>profile_yn</th>\n",
       "      <th>profile_yn:confidence</th>\n",
       "      <th>created</th>\n",
       "      <th>...</th>\n",
       "      <th>profileimage</th>\n",
       "      <th>retweet_count</th>\n",
       "      <th>sidebar_color</th>\n",
       "      <th>text</th>\n",
       "      <th>tweet_coord</th>\n",
       "      <th>tweet_count</th>\n",
       "      <th>tweet_created</th>\n",
       "      <th>tweet_id</th>\n",
       "      <th>tweet_location</th>\n",
       "      <th>user_timezone</th>\n",
       "    </tr>\n",
       "  </thead>\n",
       "  <tbody>\n",
       "    <tr>\n",
       "      <th>0</th>\n",
       "      <td>815719226</td>\n",
       "      <td>False</td>\n",
       "      <td>finalized</td>\n",
       "      <td>3</td>\n",
       "      <td>10/26/15 23:24</td>\n",
       "      <td>male</td>\n",
       "      <td>1.0000</td>\n",
       "      <td>yes</td>\n",
       "      <td>1.0</td>\n",
       "      <td>12/5/13 1:48</td>\n",
       "      <td>...</td>\n",
       "      <td>https://pbs.twimg.com/profile_images/414342229...</td>\n",
       "      <td>0</td>\n",
       "      <td>FFFFFF</td>\n",
       "      <td>Robbie E Responds To Critics After Win Against...</td>\n",
       "      <td>NaN</td>\n",
       "      <td>110964</td>\n",
       "      <td>10/26/15 12:40</td>\n",
       "      <td>6.587300e+17</td>\n",
       "      <td>main; @Kan1shk3</td>\n",
       "      <td>Chennai</td>\n",
       "    </tr>\n",
       "    <tr>\n",
       "      <th>1</th>\n",
       "      <td>815719227</td>\n",
       "      <td>False</td>\n",
       "      <td>finalized</td>\n",
       "      <td>3</td>\n",
       "      <td>10/26/15 23:30</td>\n",
       "      <td>male</td>\n",
       "      <td>1.0000</td>\n",
       "      <td>yes</td>\n",
       "      <td>1.0</td>\n",
       "      <td>10/1/12 13:51</td>\n",
       "      <td>...</td>\n",
       "      <td>https://pbs.twimg.com/profile_images/539604221...</td>\n",
       "      <td>0</td>\n",
       "      <td>C0DEED</td>\n",
       "      <td>ÛÏIt felt like they were my friends and I was...</td>\n",
       "      <td>NaN</td>\n",
       "      <td>7471</td>\n",
       "      <td>10/26/15 12:40</td>\n",
       "      <td>6.587300e+17</td>\n",
       "      <td>NaN</td>\n",
       "      <td>Eastern Time (US &amp; Canada)</td>\n",
       "    </tr>\n",
       "    <tr>\n",
       "      <th>2</th>\n",
       "      <td>815719228</td>\n",
       "      <td>False</td>\n",
       "      <td>finalized</td>\n",
       "      <td>3</td>\n",
       "      <td>10/26/15 23:33</td>\n",
       "      <td>male</td>\n",
       "      <td>0.6625</td>\n",
       "      <td>yes</td>\n",
       "      <td>1.0</td>\n",
       "      <td>11/28/14 11:30</td>\n",
       "      <td>...</td>\n",
       "      <td>https://pbs.twimg.com/profile_images/657330418...</td>\n",
       "      <td>1</td>\n",
       "      <td>C0DEED</td>\n",
       "      <td>i absolutely adore when louis starts the songs...</td>\n",
       "      <td>NaN</td>\n",
       "      <td>5617</td>\n",
       "      <td>10/26/15 12:40</td>\n",
       "      <td>6.587300e+17</td>\n",
       "      <td>clcncl</td>\n",
       "      <td>Belgrade</td>\n",
       "    </tr>\n",
       "    <tr>\n",
       "      <th>3</th>\n",
       "      <td>815719229</td>\n",
       "      <td>False</td>\n",
       "      <td>finalized</td>\n",
       "      <td>3</td>\n",
       "      <td>10/26/15 23:10</td>\n",
       "      <td>male</td>\n",
       "      <td>1.0000</td>\n",
       "      <td>yes</td>\n",
       "      <td>1.0</td>\n",
       "      <td>6/11/09 22:39</td>\n",
       "      <td>...</td>\n",
       "      <td>https://pbs.twimg.com/profile_images/259703936...</td>\n",
       "      <td>0</td>\n",
       "      <td>C0DEED</td>\n",
       "      <td>Hi @JordanSpieth - Looking at the url - do you...</td>\n",
       "      <td>NaN</td>\n",
       "      <td>1693</td>\n",
       "      <td>10/26/15 12:40</td>\n",
       "      <td>6.587300e+17</td>\n",
       "      <td>Palo Alto, CA</td>\n",
       "      <td>Pacific Time (US &amp; Canada)</td>\n",
       "    </tr>\n",
       "    <tr>\n",
       "      <th>4</th>\n",
       "      <td>815719230</td>\n",
       "      <td>False</td>\n",
       "      <td>finalized</td>\n",
       "      <td>3</td>\n",
       "      <td>10/27/15 1:15</td>\n",
       "      <td>female</td>\n",
       "      <td>1.0000</td>\n",
       "      <td>yes</td>\n",
       "      <td>1.0</td>\n",
       "      <td>4/16/14 13:23</td>\n",
       "      <td>...</td>\n",
       "      <td>https://pbs.twimg.com/profile_images/564094871...</td>\n",
       "      <td>0</td>\n",
       "      <td>0</td>\n",
       "      <td>Watching Neighbours on Sky+ catching up with t...</td>\n",
       "      <td>NaN</td>\n",
       "      <td>31462</td>\n",
       "      <td>10/26/15 12:40</td>\n",
       "      <td>6.587300e+17</td>\n",
       "      <td>NaN</td>\n",
       "      <td>NaN</td>\n",
       "    </tr>\n",
       "  </tbody>\n",
       "</table>\n",
       "<p>5 rows × 26 columns</p>\n",
       "</div>"
      ],
      "text/plain": [
       "    _unit_id  _golden _unit_state  _trusted_judgments _last_judgment_at  \\\n",
       "0  815719226    False   finalized                   3    10/26/15 23:24   \n",
       "1  815719227    False   finalized                   3    10/26/15 23:30   \n",
       "2  815719228    False   finalized                   3    10/26/15 23:33   \n",
       "3  815719229    False   finalized                   3    10/26/15 23:10   \n",
       "4  815719230    False   finalized                   3     10/27/15 1:15   \n",
       "\n",
       "   gender  gender:confidence profile_yn  profile_yn:confidence  \\\n",
       "0    male             1.0000        yes                    1.0   \n",
       "1    male             1.0000        yes                    1.0   \n",
       "2    male             0.6625        yes                    1.0   \n",
       "3    male             1.0000        yes                    1.0   \n",
       "4  female             1.0000        yes                    1.0   \n",
       "\n",
       "          created  ...                                       profileimage  \\\n",
       "0    12/5/13 1:48  ...  https://pbs.twimg.com/profile_images/414342229...   \n",
       "1   10/1/12 13:51  ...  https://pbs.twimg.com/profile_images/539604221...   \n",
       "2  11/28/14 11:30  ...  https://pbs.twimg.com/profile_images/657330418...   \n",
       "3   6/11/09 22:39  ...  https://pbs.twimg.com/profile_images/259703936...   \n",
       "4   4/16/14 13:23  ...  https://pbs.twimg.com/profile_images/564094871...   \n",
       "\n",
       "   retweet_count sidebar_color  \\\n",
       "0              0        FFFFFF   \n",
       "1              0        C0DEED   \n",
       "2              1        C0DEED   \n",
       "3              0        C0DEED   \n",
       "4              0             0   \n",
       "\n",
       "                                                text tweet_coord tweet_count  \\\n",
       "0  Robbie E Responds To Critics After Win Against...         NaN      110964   \n",
       "1  ÛÏIt felt like they were my friends and I was...         NaN        7471   \n",
       "2  i absolutely adore when louis starts the songs...         NaN        5617   \n",
       "3  Hi @JordanSpieth - Looking at the url - do you...         NaN        1693   \n",
       "4  Watching Neighbours on Sky+ catching up with t...         NaN       31462   \n",
       "\n",
       "    tweet_created      tweet_id   tweet_location               user_timezone  \n",
       "0  10/26/15 12:40  6.587300e+17  main; @Kan1shk3                     Chennai  \n",
       "1  10/26/15 12:40  6.587300e+17              NaN  Eastern Time (US & Canada)  \n",
       "2  10/26/15 12:40  6.587300e+17           clcncl                    Belgrade  \n",
       "3  10/26/15 12:40  6.587300e+17    Palo Alto, CA  Pacific Time (US & Canada)  \n",
       "4  10/26/15 12:40  6.587300e+17              NaN                         NaN  \n",
       "\n",
       "[5 rows x 26 columns]"
      ]
     },
     "execution_count": 71,
     "metadata": {},
     "output_type": "execute_result"
    }
   ],
   "source": [
    "users_data.head()"
   ]
  },
  {
   "cell_type": "code",
   "execution_count": 72,
   "id": "06213adb",
   "metadata": {},
   "outputs": [
    {
     "data": {
      "text/plain": [
       "Index(['_unit_id', '_golden', '_unit_state', '_trusted_judgments',\n",
       "       '_last_judgment_at', 'gender', 'gender:confidence', 'profile_yn',\n",
       "       'profile_yn:confidence', 'created', 'description', 'fav_number',\n",
       "       'gender_gold', 'link_color', 'name', 'profile_yn_gold', 'profileimage',\n",
       "       'retweet_count', 'sidebar_color', 'text', 'tweet_coord', 'tweet_count',\n",
       "       'tweet_created', 'tweet_id', 'tweet_location', 'user_timezone'],\n",
       "      dtype='object')"
      ]
     },
     "execution_count": 72,
     "metadata": {},
     "output_type": "execute_result"
    }
   ],
   "source": [
    "users_data.columns"
   ]
  },
  {
   "cell_type": "code",
   "execution_count": 73,
   "id": "91da511d",
   "metadata": {},
   "outputs": [],
   "source": [
    "users_data.drop(['_unit_id', '_golden', '_unit_state', '_trusted_judgments',\n",
    "       '_last_judgment_at', 'gender:confidence', 'profile_yn',\n",
    "       'profile_yn:confidence', 'created', 'description', 'fav_number',\n",
    "       'gender_gold', 'link_color','profile_yn_gold', 'profileimage',\n",
    "       'retweet_count', 'sidebar_color', 'text', 'tweet_coord', 'tweet_count',\n",
    "       'tweet_created','tweet_location'],inplace=True,axis=1)"
   ]
  },
  {
   "cell_type": "code",
   "execution_count": 74,
   "id": "021aad21",
   "metadata": {},
   "outputs": [],
   "source": [
    "users_data.drop(['tweet_id','user_timezone'],inplace=True,axis=1)"
   ]
  },
  {
   "cell_type": "code",
   "execution_count": 75,
   "id": "ee2389ba",
   "metadata": {},
   "outputs": [],
   "source": [
    "users_data=users_data[users_data.gender!=\"male\"]"
   ]
  },
  {
   "cell_type": "code",
   "execution_count": 76,
   "id": "d5c02684",
   "metadata": {},
   "outputs": [],
   "source": [
    "users_data=users_data[users_data.gender!=\"brand\"]"
   ]
  },
  {
   "cell_type": "code",
   "execution_count": 78,
   "id": "8b0a4c64",
   "metadata": {},
   "outputs": [],
   "source": [
    "users_data.insert(0, 'id', [i for i in range(1,len(users_data['name'])+1)])"
   ]
  },
  {
   "cell_type": "code",
   "execution_count": 79,
   "id": "94d2250a",
   "metadata": {},
   "outputs": [
    {
     "name": "stdout",
     "output_type": "stream",
     "text": [
      "Requirement already satisfied: iso3166 in c:\\users\\sgolaya\\anaconda3\\lib\\site-packages (2.0.2)\n"
     ]
    }
   ],
   "source": [
    "!pip install iso3166\n",
    "from iso3166 import countries\n",
    "list_of_locations=[]\n",
    "for i in countries:\n",
    "    list_of_locations.append(i.name)"
   ]
  },
  {
   "cell_type": "code",
   "execution_count": 80,
   "id": "12d9ae6b",
   "metadata": {},
   "outputs": [],
   "source": [
    "location=[]\n",
    "import random\n",
    "for i in range(0,7914):\n",
    "    location.append(random.choice(list_of_locations))"
   ]
  },
  {
   "cell_type": "code",
   "execution_count": 81,
   "id": "421e2fcd",
   "metadata": {},
   "outputs": [],
   "source": [
    "users_data['location']=location"
   ]
  },
  {
   "cell_type": "code",
   "execution_count": 82,
   "id": "13a82d01",
   "metadata": {},
   "outputs": [],
   "source": [
    "users_data = users_data.rename(columns={'tweet_location': 'location'})"
   ]
  },
  {
   "cell_type": "code",
   "execution_count": 83,
   "id": "d2458e4c",
   "metadata": {},
   "outputs": [],
   "source": [
    "users_data.insert(3, 'email_id', [i+\"@gmail.com\" for i in users_data['name']])"
   ]
  },
  {
   "cell_type": "code",
   "execution_count": 85,
   "id": "209beb70",
   "metadata": {},
   "outputs": [],
   "source": [
    "age=[]\n",
    "list1=[j for j in range(10,50)]\n",
    "import random\n",
    "for i in range(0,7914):\n",
    "    age.append(random.choice(list1))"
   ]
  },
  {
   "cell_type": "code",
   "execution_count": 86,
   "id": "da095459",
   "metadata": {},
   "outputs": [],
   "source": [
    "users_data.insert(4, 'age', age)"
   ]
  },
  {
   "cell_type": "code",
   "execution_count": 87,
   "id": "d718784a",
   "metadata": {},
   "outputs": [],
   "source": [
    "interests=['Web Development','Environmental Science','Food Sciences and Technology','Forestry','Genetics','Geological and Earth Sciences','Horticulture Science','Marine/Aquatic Biology','Microbiology and Immunology','Natural Resources Conservation, General','Natural Resources Management','Physical Sciences, General','Physics','Science Education','Wildlife and Wildlands Management','Zoology','Agronomy and Crop Science','Animal Sciences','Astronomy','Atmospheric Sciences and Meteorology','Biochemistry and Biophysics','Biology, General','Cell/Cellular Biology','Chemistry','Ecology','Actuarial Science','Applied Mathematics','Business/Management Quantitative Methods, General','Computer and Information Sciences, General','Computer Network/Telecommunications','Computer Science and Programming','Computer Software and Media Application','Computer System Administration','Data Management Technology','Information Science','Management Information Systems','Mathematics Education','Mathematics, General','Statistics','Webpage Design','Athletic Training','Chiropractic (Pre-Chiropractic)','Dentistry (Pre-Dentistry)','Emergency Medical Technology','Food and Nutrition','Health/Medical Technology, General','Medical Laboratory Technology','Medical Radiologic Technology','Medicine (Pre-Medicine)','Nuclear Medicine Technology','Nursing, Practical/Vocational (LPN)','Nursing, Registered (BS/RN)','Optometry (Pre-Optometry)','Osteopathic Medicine','Pharmacy (Pre-Pharmacy)','Physical Therapy (Pre-Physical Therapy)','Physical Therapy (Pre-Physical Therapy)','Physician Assisting','Respiratory Therapy Technology','Surgical Technology','Veterinarian Assisting/Technology','Veterinary Medicine (Pre-Vet)','Aeronautical/Aerospace Engineering Technology','Aerospace/Aeronautical Engineering','Agricultural/Bioengineering','Architectural Drafting/CAD Technology','Architectural Engineering','Architectural Engineering Technology','Architecture, General','Automotive Engineering Technology','Biomedical Engineering','Chemical Engineering','Civil Engineering','Civil Engineering Technology','Computer Engineering','Computer Engineering Technology','Construction Engineering/Management','Construction/Building Technology','Drafting/CAD Technology, General','Electrical, Electronic, and Communication Engineering','Electrical/Electronics Engineering Technology','Electromechanical/Biomedical Engineering Technology','Engineering (Pre-Engineering), General','Engineering Technology, General','Environmental Control Technologies','Environmental Health Engineering','Industrial Engineering','Industrial Production Technologies','Mechanical Drafting/CAD Technology','Mechanical Engineering','Mechanical Engineering Technology','Military Technologies','Nuclear Engineering','Graphic Design','Quality Control and Safety Technologies','Surveying Technology','Musical Instruments','Business Finance']"
   ]
  },
  {
   "cell_type": "code",
   "execution_count": 88,
   "id": "7100609f",
   "metadata": {},
   "outputs": [],
   "source": [
    "interest=random.choices(interests,k=len(users_data['name']))"
   ]
  },
  {
   "cell_type": "code",
   "execution_count": 89,
   "id": "a503aa68",
   "metadata": {},
   "outputs": [],
   "source": [
    "users_data.insert(5, 'interest', interest)"
   ]
  },
  {
   "cell_type": "code",
   "execution_count": 90,
   "id": "d93b8212",
   "metadata": {},
   "outputs": [],
   "source": [
    "##since it is an all women site\n",
    "users_data.drop(['gender'],inplace=True, axis=1)"
   ]
  },
  {
   "cell_type": "code",
   "execution_count": 91,
   "id": "9a9eaae9",
   "metadata": {},
   "outputs": [],
   "source": [
    "users_data.to_csv(\"users_final.csv\",index=False)"
   ]
  },
  {
   "cell_type": "markdown",
   "id": "a4b6973d",
   "metadata": {},
   "source": [
    "# Jobs data\n"
   ]
  },
  {
   "cell_type": "code",
   "execution_count": 94,
   "id": "a427298f",
   "metadata": {},
   "outputs": [],
   "source": [
    "jobs=pd.read_csv(\"Data Science Jobs Salaries.csv\")"
   ]
  },
  {
   "cell_type": "code",
   "execution_count": 95,
   "id": "bfd3b067",
   "metadata": {},
   "outputs": [
    {
     "data": {
      "text/plain": [
       "Index(['work_year', 'experience_level', 'employment_type', 'job_title',\n",
       "       'salary', 'salary_currency', 'salary_in_usd', 'employee_residence',\n",
       "       'remote_ratio', 'company_location', 'company_size'],\n",
       "      dtype='object')"
      ]
     },
     "execution_count": 95,
     "metadata": {},
     "output_type": "execute_result"
    }
   ],
   "source": [
    "jobs.columns"
   ]
  },
  {
   "cell_type": "code",
   "execution_count": 96,
   "id": "ceb8d57d",
   "metadata": {},
   "outputs": [],
   "source": [
    "jobs.drop(['work_year','salary', 'salary_currency','remote_ratio','employment_type','company_location'],inplace=True,axis=1)"
   ]
  },
  {
   "cell_type": "code",
   "execution_count": 97,
   "id": "8968b8cd",
   "metadata": {},
   "outputs": [],
   "source": [
    "##MI=Mid level, SE=Senior level, EN=entry level, EX=executive level\n",
    "jobs['experience_level'] = jobs['experience_level'].replace(['MI','SE','EN','EX'],[3,7,0,10])"
   ]
  },
  {
   "cell_type": "code",
   "execution_count": 98,
   "id": "7fa8f963",
   "metadata": {},
   "outputs": [],
   "source": [
    "jobs = jobs.rename(columns={'experience_level': 'work_experience_required(in years)'})"
   ]
  },
  {
   "cell_type": "code",
   "execution_count": 99,
   "id": "3df3fccc",
   "metadata": {},
   "outputs": [],
   "source": [
    "jobs.insert(0, 'job_id', [i for i in range(1,len(jobs['job_title'])+1)])"
   ]
  },
  {
   "cell_type": "code",
   "execution_count": 100,
   "id": "7eef553e",
   "metadata": {},
   "outputs": [],
   "source": [
    "list_of_locations=[]\n",
    "for i in countries:\n",
    "    list_of_locations.append(i.name)"
   ]
  },
  {
   "cell_type": "code",
   "execution_count": 101,
   "id": "ef01c03e",
   "metadata": {},
   "outputs": [],
   "source": [
    "country_name=[]\n",
    "for i in jobs['employee_residence']:\n",
    "    for j in countries:\n",
    "        if i == j.alpha2:\n",
    "            country_name.append(j.name)"
   ]
  },
  {
   "cell_type": "code",
   "execution_count": 102,
   "id": "933e7931",
   "metadata": {},
   "outputs": [],
   "source": [
    "jobs['employee_residence']=country_name"
   ]
  },
  {
   "cell_type": "code",
   "execution_count": 104,
   "id": "ed000787",
   "metadata": {},
   "outputs": [],
   "source": [
    "keys=['Data Science Consultant', 'Data Scientist',\n",
    "       'Head of Data Science', 'Head of Data',\n",
    "       'Machine Learning Engineer', 'Data Analytics Manager',\n",
    "       'Research Scientist', 'Data Analyst', 'Data Engineer',\n",
    "       'Data Science Engineer', 'Manager Data Science',\n",
    "       'Data Engineering Manager', 'AI Scientist',\n",
    "       '3D Computer Vision Researcher', 'ML Engineer',\n",
    "       'Applied Data Scientist', 'Director of Data Science',\n",
    "       'Data Analytics Engineer', 'Lead Data Analyst', 'BI Data Analyst',\n",
    "       'Machine Learning Scientist',\n",
    "       'Machine Learning Infrastructure Engineer',\n",
    "       'Marketing Data Analyst', 'Lead Data Engineer',\n",
    "       'Director of Data Engineering',\n",
    "       'Computer Vision Software Engineer', 'Financial Data Analyst',\n",
    "       'Cloud Data Engineer', 'Principal Data Analyst',\n",
    "       'Big Data Architect', 'Lead Data Scientist', 'Data Architect',\n",
    "       'Big Data Engineer', 'Staff Data Scientist',\n",
    "       'Data Science Manager', 'Business Data Analyst',\n",
    "       'Principal Data Scientist', 'Computer Vision Engineer',\n",
    "       'Product Data Analyst', 'Principal Data Engineer',\n",
    "       'Finance Data Analyst', 'Applied Machine Learning Scientist',\n",
    "       'Data Specialist']"
   ]
  },
  {
   "cell_type": "code",
   "execution_count": 105,
   "id": "7251e8f9",
   "metadata": {},
   "outputs": [],
   "source": [
    "d=dict.fromkeys(keys)"
   ]
  },
  {
   "cell_type": "code",
   "execution_count": 106,
   "id": "422ab6cd",
   "metadata": {},
   "outputs": [],
   "source": [
    "d['Data Science Consultant']=['Data Science','Data Analytics']\n",
    "d['Data Scientist']=['Data Science','Data Analytics']\n",
    "d['Head of Data Science']=['Data Science','Management']\n",
    "d['Head of Data']=['Statistics','Data Analytics']\n",
    "d['Machine Learning Engineer']=['Machine Learning','Artificial Intelligence']\n",
    "d['Data Analytics Manager']=['Management','Data Analytics']\n",
    "d['Research Scientist']=['Research','science and numerics']\n",
    "d['Data Analyst']=['Statistics','Data Analytics']\n",
    "d['Data Engineer']=['Data Science','Data Analytics']\n",
    "d['Data Science Engineer']=['Data Science','Data Analytics']\n",
    "d['Manager Data Science']=['Data Science','Management']\n",
    "d['Data Engineering Manager']=['Data engineer','management']\n",
    "d['AI Scientist']=['Artificial intelligence','Data Science']\n",
    "d['3D Computer Vision Researcher']=['Computer Vision','Research']\n",
    "d['ML Engineer']=['Machine Learning','Engineer']\n",
    "d['Applied Data Scientist']=['Applied Science','Data Analytics']\n",
    "d['Director of Data Science']=['Data Science','Management']\n",
    "d['Data Analytics Engineer']=['Engineer','Data Analytics']\n",
    "d['Lead Data Analyst']=['Management','Data Analytics']\n",
    "d['BI Data Analyst']=['PowerBI','Data Analytics']\n",
    "d['Machine Learning Scientist']=['Machine Learning','Research']\n",
    "d['Machine Learning Infrastructure Engineer']=['Machine Learning','Infrastructure']\n",
    "d['Marketing Data Analyst']=['Marketing','Data Analytics']\n",
    "d['Lead Data Engineer']=['Executive','Data engineer']\n",
    "d['Director of Data Engineering']=['Executive','Management']\n",
    "d['Computer Vision Software Engineer']=['Computer Vision','Software Development']\n",
    "d['Cloud Data Engineer']=['Cloud computing','Data engineer']\n",
    "d['Principal Data Analyst']=['Executive','Data Analytics']\n",
    "d['Big Data Architect']=['DBMS','Hadoop-Apache']\n",
    "d['Lead Data Scientist']=['Data Science','Data Analytics']\n",
    "d['Financial Data Analyst']=['Finance','Data Analytics']\n",
    "d['Data Architect']=['DBMS','Data Analytics']\n",
    "d['Big Data Engineer']=['DBMS','Hadoop-Apache']\n",
    "d['Staff Data Scientist']=['Data Science','Data Analytics']\n",
    "d['Data Science Manager']=['Data Science','Management']\n",
    "d['Business Data Analyst']=['PowerBI','Data Analytics']\n",
    "d['Principal Data Scientist']=['Executive','Data Science']\n",
    "d['Computer Vision Engineer']=['Computer Vision','Deep Learning']\n",
    "d['Product Data Analyst']=['Product Management','Data Analytics']\n",
    "d['Principal Data Engineer']=['Executive','Data Analytics']\n",
    "d['Finance Data Analyst']=['Finance','Data Analytics']\n",
    "d['Applied Machine Learning Scientist']=['Applied Science','Machine Learning']\n",
    "d['Data Specialist']=['DBMS','Data Analytics']"
   ]
  },
  {
   "cell_type": "code",
   "execution_count": 43,
   "id": "bc43f2e8",
   "metadata": {},
   "outputs": [],
   "source": [
    "skill1=[]\n",
    "skill2=[]\n",
    "for x in jobs['job_title']:\n",
    "    for y in d.keys():\n",
    "        if x==y:\n",
    "            skill1.append(d[y][0])\n",
    "            skill2.append(d[y][1])"
   ]
  },
  {
   "cell_type": "code",
   "execution_count": 44,
   "id": "5f2cbe08",
   "metadata": {},
   "outputs": [],
   "source": [
    "jobs['Skill_required_1']=skill1\n",
    "jobs['Skill_required_2']=skill2"
   ]
  },
  {
   "cell_type": "code",
   "execution_count": 46,
   "id": "3f5c98fd",
   "metadata": {},
   "outputs": [],
   "source": [
    "jobs.to_csv('jobs_final.csv',index=False)"
   ]
  },
  {
   "cell_type": "markdown",
   "id": "381a8daa",
   "metadata": {},
   "source": [
    "# Courses data"
   ]
  },
  {
   "cell_type": "code",
   "execution_count": 48,
   "id": "3456ea9f",
   "metadata": {},
   "outputs": [],
   "source": [
    "courses=pd.read_csv(\"udemy_courses.csv\")"
   ]
  },
  {
   "cell_type": "code",
   "execution_count": 49,
   "id": "f13adda9",
   "metadata": {},
   "outputs": [
    {
     "data": {
      "text/html": [
       "<div>\n",
       "<style scoped>\n",
       "    .dataframe tbody tr th:only-of-type {\n",
       "        vertical-align: middle;\n",
       "    }\n",
       "\n",
       "    .dataframe tbody tr th {\n",
       "        vertical-align: top;\n",
       "    }\n",
       "\n",
       "    .dataframe thead th {\n",
       "        text-align: right;\n",
       "    }\n",
       "</style>\n",
       "<table border=\"1\" class=\"dataframe\">\n",
       "  <thead>\n",
       "    <tr style=\"text-align: right;\">\n",
       "      <th></th>\n",
       "      <th>course_id</th>\n",
       "      <th>course_title</th>\n",
       "      <th>url</th>\n",
       "      <th>is_paid</th>\n",
       "      <th>price</th>\n",
       "      <th>num_subscribers</th>\n",
       "      <th>num_reviews</th>\n",
       "      <th>num_lectures</th>\n",
       "      <th>level</th>\n",
       "      <th>content_duration</th>\n",
       "      <th>published_timestamp</th>\n",
       "      <th>subject</th>\n",
       "    </tr>\n",
       "  </thead>\n",
       "  <tbody>\n",
       "    <tr>\n",
       "      <th>0</th>\n",
       "      <td>1070968</td>\n",
       "      <td>Ultimate Investment Banking Course</td>\n",
       "      <td>https://www.udemy.com/ultimate-investment-bank...</td>\n",
       "      <td>True</td>\n",
       "      <td>200</td>\n",
       "      <td>2147</td>\n",
       "      <td>23</td>\n",
       "      <td>51</td>\n",
       "      <td>All Levels</td>\n",
       "      <td>1.5</td>\n",
       "      <td>2017-01-18T20:58:58Z</td>\n",
       "      <td>Business Finance</td>\n",
       "    </tr>\n",
       "    <tr>\n",
       "      <th>1</th>\n",
       "      <td>1113822</td>\n",
       "      <td>Complete GST Course &amp; Certification - Grow You...</td>\n",
       "      <td>https://www.udemy.com/goods-and-services-tax/</td>\n",
       "      <td>True</td>\n",
       "      <td>75</td>\n",
       "      <td>2792</td>\n",
       "      <td>923</td>\n",
       "      <td>274</td>\n",
       "      <td>All Levels</td>\n",
       "      <td>39.0</td>\n",
       "      <td>2017-03-09T16:34:20Z</td>\n",
       "      <td>Business Finance</td>\n",
       "    </tr>\n",
       "    <tr>\n",
       "      <th>2</th>\n",
       "      <td>1006314</td>\n",
       "      <td>Financial Modeling for Business Analysts and C...</td>\n",
       "      <td>https://www.udemy.com/financial-modeling-for-b...</td>\n",
       "      <td>True</td>\n",
       "      <td>45</td>\n",
       "      <td>2174</td>\n",
       "      <td>74</td>\n",
       "      <td>51</td>\n",
       "      <td>Intermediate Level</td>\n",
       "      <td>2.5</td>\n",
       "      <td>2016-12-19T19:26:30Z</td>\n",
       "      <td>Business Finance</td>\n",
       "    </tr>\n",
       "    <tr>\n",
       "      <th>3</th>\n",
       "      <td>1210588</td>\n",
       "      <td>Beginner to Pro - Financial Analysis in Excel ...</td>\n",
       "      <td>https://www.udemy.com/complete-excel-finance-c...</td>\n",
       "      <td>True</td>\n",
       "      <td>95</td>\n",
       "      <td>2451</td>\n",
       "      <td>11</td>\n",
       "      <td>36</td>\n",
       "      <td>All Levels</td>\n",
       "      <td>3.0</td>\n",
       "      <td>2017-05-30T20:07:24Z</td>\n",
       "      <td>Business Finance</td>\n",
       "    </tr>\n",
       "    <tr>\n",
       "      <th>4</th>\n",
       "      <td>1011058</td>\n",
       "      <td>How To Maximize Your Profits Trading Options</td>\n",
       "      <td>https://www.udemy.com/how-to-maximize-your-pro...</td>\n",
       "      <td>True</td>\n",
       "      <td>200</td>\n",
       "      <td>1276</td>\n",
       "      <td>45</td>\n",
       "      <td>26</td>\n",
       "      <td>Intermediate Level</td>\n",
       "      <td>2.0</td>\n",
       "      <td>2016-12-13T14:57:18Z</td>\n",
       "      <td>Business Finance</td>\n",
       "    </tr>\n",
       "  </tbody>\n",
       "</table>\n",
       "</div>"
      ],
      "text/plain": [
       "   course_id                                       course_title  \\\n",
       "0    1070968                 Ultimate Investment Banking Course   \n",
       "1    1113822  Complete GST Course & Certification - Grow You...   \n",
       "2    1006314  Financial Modeling for Business Analysts and C...   \n",
       "3    1210588  Beginner to Pro - Financial Analysis in Excel ...   \n",
       "4    1011058       How To Maximize Your Profits Trading Options   \n",
       "\n",
       "                                                 url  is_paid  price  \\\n",
       "0  https://www.udemy.com/ultimate-investment-bank...     True    200   \n",
       "1      https://www.udemy.com/goods-and-services-tax/     True     75   \n",
       "2  https://www.udemy.com/financial-modeling-for-b...     True     45   \n",
       "3  https://www.udemy.com/complete-excel-finance-c...     True     95   \n",
       "4  https://www.udemy.com/how-to-maximize-your-pro...     True    200   \n",
       "\n",
       "   num_subscribers  num_reviews  num_lectures               level  \\\n",
       "0             2147           23            51          All Levels   \n",
       "1             2792          923           274          All Levels   \n",
       "2             2174           74            51  Intermediate Level   \n",
       "3             2451           11            36          All Levels   \n",
       "4             1276           45            26  Intermediate Level   \n",
       "\n",
       "   content_duration   published_timestamp           subject  \n",
       "0               1.5  2017-01-18T20:58:58Z  Business Finance  \n",
       "1              39.0  2017-03-09T16:34:20Z  Business Finance  \n",
       "2               2.5  2016-12-19T19:26:30Z  Business Finance  \n",
       "3               3.0  2017-05-30T20:07:24Z  Business Finance  \n",
       "4               2.0  2016-12-13T14:57:18Z  Business Finance  "
      ]
     },
     "execution_count": 49,
     "metadata": {},
     "output_type": "execute_result"
    }
   ],
   "source": [
    "courses.head()"
   ]
  },
  {
   "cell_type": "code",
   "execution_count": 51,
   "id": "76ed0125",
   "metadata": {},
   "outputs": [],
   "source": [
    "courses.drop(['num_reviews','num_lectures','published_timestamp'],axis=1,inplace=True)"
   ]
  },
  {
   "cell_type": "code",
   "execution_count": 52,
   "id": "16e7e6a1",
   "metadata": {},
   "outputs": [
    {
     "data": {
      "text/plain": [
       "Web Development        1200\n",
       "Business Finance       1195\n",
       "Musical Instruments     680\n",
       "Graphic Design          603\n",
       "Name: subject, dtype: int64"
      ]
     },
     "execution_count": 52,
     "metadata": {},
     "output_type": "execute_result"
    }
   ],
   "source": [
    "courses['subject'].value_counts()"
   ]
  },
  {
   "cell_type": "code",
   "execution_count": 53,
   "id": "fededa20",
   "metadata": {},
   "outputs": [],
   "source": [
    "courses = courses.rename(columns={'price': 'price(USD)'})"
   ]
  },
  {
   "cell_type": "code",
   "execution_count": 54,
   "id": "ce7b648c",
   "metadata": {},
   "outputs": [],
   "source": [
    "courses = courses.rename(columns={'content_duration': 'duration(Hours)'})"
   ]
  },
  {
   "cell_type": "code",
   "execution_count": 55,
   "id": "0e33bff5",
   "metadata": {},
   "outputs": [],
   "source": [
    "courses.to_csv('courses_final.csv',index=False)"
   ]
  },
  {
   "cell_type": "markdown",
   "id": "4c318e04",
   "metadata": {},
   "source": [
    "# Work profile of user"
   ]
  },
  {
   "cell_type": "code",
   "execution_count": 56,
   "id": "c953055f",
   "metadata": {},
   "outputs": [],
   "source": [
    "work_info=users_data['id']"
   ]
  },
  {
   "cell_type": "code",
   "execution_count": 57,
   "id": "c931f82c",
   "metadata": {},
   "outputs": [
    {
     "data": {
      "text/plain": [
       "4           1\n",
       "5           2\n",
       "8           3\n",
       "9           4\n",
       "12          5\n",
       "         ... \n",
       "20039    7910\n",
       "20044    7911\n",
       "20045    7912\n",
       "20048    7913\n",
       "20049    7914\n",
       "Name: id, Length: 7914, dtype: int64"
      ]
     },
     "execution_count": 57,
     "metadata": {},
     "output_type": "execute_result"
    }
   ],
   "source": [
    "work_info"
   ]
  },
  {
   "cell_type": "code",
   "execution_count": 58,
   "id": "8f78865a",
   "metadata": {},
   "outputs": [],
   "source": [
    "work_info=pd.DataFrame(work_info)"
   ]
  },
  {
   "cell_type": "code",
   "execution_count": 59,
   "id": "722dbe2c",
   "metadata": {},
   "outputs": [],
   "source": [
    "work_exp=[]\n",
    "list1=[j for j in range(0,11)]\n",
    "import random\n",
    "for i in range(0,len(users_data['name'])):\n",
    "    work_exp.append(random.choice(list1))\n",
    "work_info['work_exp(in years)']=work_exp"
   ]
  },
  {
   "cell_type": "code",
   "execution_count": 60,
   "id": "de317472",
   "metadata": {},
   "outputs": [],
   "source": [
    "skills_1=[]\n",
    "skills_2=[]\n",
    "for i in range(0,len(users_data['name'])):\n",
    "    skills_1.append(random.choice(skill1))\n",
    "    skills_2.append(random.choice(skill2))"
   ]
  },
  {
   "cell_type": "code",
   "execution_count": 61,
   "id": "9b7ec18b",
   "metadata": {},
   "outputs": [],
   "source": [
    "work_info['skill1']=skills_1\n",
    "work_info['skill2']=skills_2"
   ]
  },
  {
   "cell_type": "code",
   "execution_count": 62,
   "id": "e79dc7f6",
   "metadata": {},
   "outputs": [],
   "source": [
    "work_info.to_csv(\"work_profile_final.csv\",index=False)"
   ]
  }
 ],
 "metadata": {
  "kernelspec": {
   "display_name": "Python 3 (ipykernel)",
   "language": "python",
   "name": "python3"
  },
  "language_info": {
   "codemirror_mode": {
    "name": "ipython",
    "version": 3
   },
   "file_extension": ".py",
   "mimetype": "text/x-python",
   "name": "python",
   "nbconvert_exporter": "python",
   "pygments_lexer": "ipython3",
   "version": "3.9.7"
  }
 },
 "nbformat": 4,
 "nbformat_minor": 5
}
